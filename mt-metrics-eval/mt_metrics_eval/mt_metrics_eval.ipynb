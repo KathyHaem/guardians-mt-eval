{
 "cells": [
  {
   "cell_type": "markdown",
   "metadata": {
    "id": "IGuFoP_Gq9X9"
   },
   "source": [
    "This is a demo colab for MTME. It assumes you have mt_metrics_eval installed on your runtime, and have downloaded the data onto that machine. Run the cells below in order."
   ]
  },
  {
   "cell_type": "markdown",
   "metadata": {
    "id": "gH8o8UKmUhQ8"
   },
   "source": [
    "# Preliminaries"
   ]
  },
  {
   "cell_type": "code",
   "execution_count": 1,
   "metadata": {
    "cellView": "code",
    "id": "Cr0TM9EY7wOH"
   },
   "source": [
    "# @title Imports\n",
    "\n",
    "import numpy as np\n",
    "import scipy.stats\n",
    "\n",
    "from mt_metrics_eval import meta_info\n",
    "from mt_metrics_eval import data\n",
    "from mt_metrics_eval import stats\n",
    "from mt_metrics_eval import tasks"
   ],
   "outputs": []
  },
  {
   "cell_type": "code",
   "execution_count": 2,
   "metadata": {
    "cellView": "code",
    "id": "GznnWylA8gwJ"
   },
   "source": [
    "# @title Print all available evalsets\n",
    "\n",
    "for testset in meta_info.DATA:\n",
    "  print(f'{testset}:', ' '.join(lp for lp in meta_info.DATA[testset]))\n"
   ],
   "outputs": []
  },
  {
   "cell_type": "code",
   "execution_count": 3,
   "metadata": {
    "id": "OfiSe4Yt8sz3"
   },
   "source": [
    "# @title Load data for WMT21 language pairs scored with MQM\n",
    "\n",
    "all_evs = {}  # name/lp -> evs\n",
    "for testset in meta_info.DATA:\n",
    "  if not testset.startswith('wmt21'): continue\n",
    "  for lp in meta_info.DATA[testset]:\n",
    "    if 'mqm' in meta_info.DATA[testset][lp].std_gold.values():\n",
    "      all_evs[f'{testset}/{lp}'] = data.EvalSet(testset, lp, True)\n",
    "\n",
    "print('\\n'.join(all_evs.keys()))"
   ],
   "outputs": []
  },
  {
   "cell_type": "code",
   "execution_count": 4,
   "metadata": {
    "cellView": "code",
    "id": "jAuNRBA79Yai"
   },
   "source": [
    "# @title Print summaries for all loaded evalsets\n",
    "\n",
    "print(f'{\"name\":<20}  segs sys metrics gold  refs std')\n",
    "for name, evs in all_evs.items():\n",
    "  nsegs = len(evs.src)\n",
    "  nsys = len(evs.sys_names)\n",
    "  nmetrics = len(evs.metric_basenames)\n",
    "  gold = evs.StdHumanScoreName('sys')\n",
    "  nrefs = len(evs.ref_names)\n",
    "  std_ref = evs.std_ref\n",
    "\n",
    "  print(f'{name:<20} {nsegs:5d} {nsys:3d} {nmetrics:7d} '\n",
    "        f'{gold:5} {nrefs:4d} {std_ref}')"
   ],
   "outputs": []
  },
  {
   "cell_type": "code",
   "execution_count": 24,
   "metadata": {},
   "source": [
    "testset_name, lp = \"wmt22\", \"en-ru\"\n",
    "meta_info.DATA[testset_name][lp].std_gold.values(), meta_info.DATA[testset_name][lp].std_gold"
   ],
   "outputs": []
  },
  {
   "cell_type": "code",
   "execution_count": 25,
   "metadata": {},
   "source": [
    "meta_info.DATA[testset_name][lp]"
   ],
   "outputs": []
  },
  {
   "cell_type": "code",
   "execution_count": 26,
   "metadata": {},
   "source": [
    "testset, lp = testset_name, lp\n",
    "testset = data.EvalSet(testset, lp, True)\n",
    "testset, type(testset)"
   ],
   "outputs": []
  },
  {
   "cell_type": "code",
   "execution_count": 27,
   "metadata": {},
   "source": [
    "testset.ref_names"
   ],
   "outputs": []
  },
  {
   "cell_type": "code",
   "execution_count": 28,
   "metadata": {},
   "source": [
    "# @title Print summaries for all loaded evalsets\n",
    "nsegs = len(testset.src)\n",
    "nsys = len(testset.sys_names)\n",
    "nmetrics = len(testset.metric_basenames)\n",
    "gold_seg = testset.StdHumanScoreName('seg')\n",
    "nrefs = len(testset.ref_names)\n",
    "std_ref = testset.std_ref\n",
    "\n",
    "print(f\"# segs = {nsegs}\")\n",
    "print(f\"# systems = {nsys}\")\n",
    "print(f\"# metrics = {nmetrics}\")\n",
    "print(f\"Annotation type = {gold_seg}\")\n",
    "print(f\"# refs = {nrefs}\")\n",
    "print(f\"std ref = {std_ref}\")"
   ],
   "outputs": []
  },
  {
   "cell_type": "markdown",
   "metadata": {
    "id": "AW9Mda-jUpqh"
   },
   "source": [
    "# Comparing metrics"
   ]
  },
  {
   "cell_type": "code",
   "execution_count": 29,
   "metadata": {
    "id": "GSwjndy3mQeo"
   },
   "source": [
    "# @title Set up for comparing metrics\n",
    "\n",
    "# There are many different ways to evaluate the performance of MT metrics. The\n",
    "# most obvious question is what correlation statistic we should use to capture\n",
    "# the similarity between a vector of metric scores and a vector of gold scores\n",
    "# (human ratings). A less obvious question is where those vectors come from.\n",
    "# We'll defer the choice of correlation statistic to later cells, and begin\n",
    "# by setting some parameters that precisely define the vectors we're interested\n",
    "# in comparing.\n",
    "\n",
    "evs_list = [testset]\n",
    "\n",
    "# Choose the version of each metric that uses the standard reference for each\n",
    "# evalset.\n",
    "main_refs = [{evs.std_ref} for evs in evs_list]\n",
    "\n",
    "# Some alternative references are known to be close to the standard reference.\n",
    "# Don't include these among systems to be scored if we are including 'human'\n",
    "# systems. The only currently known instance is refB in wmt21.news/en-de,\n",
    "# which is similar to the standard refC.\n",
    "# close_refs = [{'refB'} if k == 'wmt21.news/en-de' else set() for k in all_evs]\n",
    "# close_refs = [set() for _ in evs_list]\n",
    "\n",
    "# Include 'human' systems (ie, reference translations) among systems to be\n",
    "# scored. This can make the task more challenging, since some metrics are\n",
    "# biased against less literal references.\n",
    "include_human = False\n",
    "\n",
    "# Don't include systems considered to be outliers. These are systems that are\n",
    "# much better or worse than all other systems, so they are easy for all metrics\n",
    "# to rank correctly).\n",
    "include_outliers = False\n",
    "\n",
    "# Use MQM ratings as gold scores rather than the scores provided by the main\n",
    "# WMT task. Metrics tasks have used MQM for main results since 2021.\n",
    "gold_name = 'mqm' #'wmt-raw' # 'wmt' # 'mqm'\n",
    "\n",
    "# Only compare metrics that have been designated as primary submissions. This\n",
    "# removes metric variants that are similar to each other, and reduces the size\n",
    "# of the comparison matrix.\n",
    "primary_metrics = True\n",
    "\n",
    "# Don't limit the results to a particular domain. In WMT21, domains are treated\n",
    "# as separate test-sets, so this is a no-op (WMT22 is a different story).\n",
    "domain = None\n",
    "\n",
    "# Set the number of resampling runs for determining whether one metric is better\n",
    "# than another according to the permutation test. We'll use 5 to make the demo\n",
    "# finish quickly, but at least 1000 is required for stable results.\n",
    "k = 0 # 1000\n",
    "\n",
    "# Set the size of blocks for 'early stopping' checks during resampling. If\n",
    "# you're using k = 1000, this can speed up the computation, usually with\n",
    "# only minimal changes to the results.\n",
    "psd = stats.PermutationSigDiffParams(block_size = 100)\n",
    "\n",
    "# Set the p-value for deciding wheter metrics are considered to be significantly\n",
    "# different. Lower values make the test more stringent.\n",
    "pval = 0.05"
   ],
   "outputs": []
  },
  {
   "cell_type": "code",
   "execution_count": 30,
   "metadata": {},
   "source": [
    "testset.domain_names"
   ],
   "outputs": []
  },
  {
   "cell_type": "code",
   "execution_count": 10,
   "metadata": {},
   "source": [
    "# @title Set up for comparing metrics\n",
    "\n",
    "# There are many different ways to evaluate the performance of MT metrics. The\n",
    "# most obvious question is what correlation statistic we should use to capture\n",
    "# the similarity between a vector of metric scores and a vector of gold scores\n",
    "# (human ratings). A less obvious question is where those vectors come from.\n",
    "# We'll defer the choice of correlation statistic to later cells, and begin\n",
    "# by setting some parameters that precisely define the vectors we're interested\n",
    "# in comparing.\n",
    "\n",
    "# Use all evalsets that we've loaded.\n",
    "evs_list = all_evs.values()\n",
    "\n",
    "# Choose the version of each metric that uses the standard reference for each\n",
    "# evalset.\n",
    "main_refs = [{evs.std_ref} for evs in evs_list]\n",
    "\n",
    "# Some alternative references are known to be close to the standard reference.\n",
    "# Don't include these among systems to be scored if we are including 'human'\n",
    "# systems. The only currently known instance is refB in wmt21.news/en-de,\n",
    "# which is similar to the standard refC.\n",
    "close_refs = [{'refB'} if k == 'wmt21.news/en-de' else set() for k in all_evs]\n",
    "\n",
    "# Include 'human' systems (ie, reference translations) among systems to be\n",
    "# scored. This can make the task more challenging, since some metrics are\n",
    "# biased against less literal references.\n",
    "include_human = True\n",
    "\n",
    "# Don't include systems considered to be outliers. These are systems that are\n",
    "# much better or worse than all other systems, so they are easy for all metrics\n",
    "# to rank correctly).\n",
    "include_outliers = False\n",
    "\n",
    "# Use MQM ratings as gold scores rather than the scores provided by the main\n",
    "# WMT task. Metrics tasks have used MQM for main results since 2021.\n",
    "gold_name = 'mqm'\n",
    "\n",
    "# Only compare metrics that have been designated as primary submissions. This\n",
    "# removes metric variants that are similar to each other, and reduces the size\n",
    "# of the comparison matrix.\n",
    "primary_metrics = True\n",
    "\n",
    "# Don't limit the results to a particular domain. In WMT21, domains are treated\n",
    "# as separate test-sets, so this is a no-op (WMT22 is a different story).\n",
    "domain = None\n",
    "\n",
    "# Set the number of resampling runs for determining whether one metric is better\n",
    "# than another according to the permutation test. We'll use 5 to make the demo\n",
    "# finish quickly, but at least 1000 is required for stable results.\n",
    "k = 5\n",
    "\n",
    "# Set the size of blocks for 'early stopping' checks during resampling. If\n",
    "# you're using k = 1000, this can speed up the computation, usually with\n",
    "# only minimal changes to the results.\n",
    "psd = stats.PermutationSigDiffParams(block_size = 100)\n",
    "\n",
    "# Set the p-value for deciding wheter metrics are considered to be significantly\n",
    "# different. Lower values make the test more stringent.\n",
    "pval = 0.05"
   ],
   "outputs": []
  },
  {
   "cell_type": "code",
   "execution_count": 8,
   "metadata": {
    "id": "ffPW_P5yxMbu"
   },
   "source": [
    "# @title Evaluate metrics using global accuracy\n",
    "\n",
    "# Global accuracy, introduced by Kocmi et al (https://arxiv.org/abs/2107.10821)\n",
    "# is a robust way to evaluate the performance of a metric across many different\n",
    "# settings. The idea is to count the number of pairwise system rankings where\n",
    "# the metric agrees with the gold ranking, and micro average this across all\n",
    "# settings.\n",
    "\n",
    "# The output shows the rank of each metric's significance cluster, followed\n",
    "# by its accuracy, and whether it is statistically tied with (=) or better than\n",
    "# (>) each lower-ranking metric.\n",
    "\n",
    "\n",
    "ranks, matrix = data.CompareMetricsWithGlobalAccuracy(\n",
    "    evs_list, main_refs, close_refs, include_human, include_outliers,\n",
    "    gold_name, primary_metrics, domain, k, psd, pval)[:2]\n",
    "\n",
    "data.PrintMetricComparison(ranks, matrix, pval)"
   ],
   "outputs": []
  },
  {
   "cell_type": "code",
   "execution_count": 10,
   "metadata": {
    "id": "vCXij-xmO_E9"
   },
   "source": [
    "# @title Evaluate metrics using system-level Pearson correlation\n",
    "\n",
    "# Pearson correlation measures the degree of linear correspondence between\n",
    "# metric and gold scores. Computing a single correlation across different\n",
    "# evalsets isn't a great idea, so the interface forces you to choose a single\n",
    "# set. We'll pick 'wmt21.news/en-de'. The part of the computation that extracts\n",
    "# relevant score vectors is factored into a separate step to allow you to\n",
    "# compute other correlations with these vectors.\n",
    "\n",
    "# Notice that the ranking is quite different from the accuracy ranking, partly\n",
    "# because we're using only a subset of the data, and partly because Pearson and\n",
    "# accuracy measure different things. The ranking also includes two metrics that\n",
    "# were automatically filtered out of the accuracy ranking because they weren't\n",
    "# available for all evalsets.\n",
    "\n",
    "evs = all_evs['wmt21.news/en-de']\n",
    "corrs = data.GetCorrelations(\n",
    "    evs, 'sys', {evs.std_ref}, {'refB'}, include_human, include_outliers,\n",
    "    gold_name, primary_metrics, domain)\n",
    "ranks, matrix = data.CompareMetrics(\n",
    "    corrs, scipy.stats.pearsonr, 'none', k, psd, pval)\n",
    "\n",
    "data.PrintMetricComparison(ranks, matrix, pval, evs)"
   ],
   "outputs": []
  },
  {
   "cell_type": "code",
   "execution_count": 12,
   "metadata": {},
   "source": [
    "include_human, include_outliers, gold_name, primary_metrics, domain, testset.human_sys_names, testset.std_ref"
   ],
   "outputs": []
  },
  {
   "cell_type": "code",
   "execution_count": 13,
   "metadata": {},
   "source": [
    "testset.sys_names, testset.sys_names - {testset.std_ref} - testset.outlier_sys_names"
   ],
   "outputs": []
  },
  {
   "cell_type": "code",
   "execution_count": 14,
   "metadata": {},
   "source": [
    "primary_metrics = True\n",
    "gold_name, {testset.std_ref}, include_outliers, primary_metrics"
   ],
   "outputs": []
  },
  {
   "cell_type": "code",
   "execution_count": 13,
   "metadata": {},
   "source": [
    "corrs = data.GetCorrelations(\n",
    "    testset, \"seg\", {testset.std_ref}, set(), include_human, include_outliers,\n",
    "    gold_name, primary_metrics, domain)\n",
    "corrs_and_ranks, sig_matrix, draws_index, draws_list = data.CompareMetrics(\n",
    "    corrs, stats.KendallWithTiesOpt, \"item\", False, k, psd, pval, sample_rate=1.0)\n",
    "\n",
    "data.PrintMetricComparison(corrs_and_ranks, sig_matrix, pval, testset)"
   ],
   "outputs": []
  },
  {
   "cell_type": "code",
   "execution_count": 59,
   "metadata": {},
   "source": [
    "# WMT21.news, MQM, zh-en\n",
    "\n",
    "corrs = data.GetCorrelations(\n",
    "    testset, \"seg\", {testset.std_ref}, set(), include_human, include_outliers,\n",
    "    gold_name, primary_metrics, domain)\n",
    "corrs_and_ranks, sig_matrix, draws_index, draws_list = data.CompareMetrics(\n",
    "    corrs, scipy.stats.kendalltau, \"none\", True, 0, psd, pval)\n",
    "\n",
    "data.PrintMetricComparison(corrs_and_ranks, sig_matrix, pval, testset)"
   ],
   "outputs": []
  },
  {
   "cell_type": "code",
   "execution_count": 31,
   "metadata": {},
   "source": [
    "# WMT22, MQM, zh-en, seg\n",
    "\n",
    "corrs = data.GetCorrelations(\n",
    "    testset, \"seg\", {\"refA\"}, set(), include_human, include_outliers,\n",
    "    gold_name, primary_metrics, domain)\n",
    "corrs_and_ranks, sig_matrix, draws_index, draws_list = data.CompareMetrics(\n",
    "    corrs, scipy.stats.kendalltau, \"none\", True, 0, psd, pval)\n",
    "\n",
    "data.PrintMetricComparison(corrs_and_ranks, sig_matrix, pval, testset)"
   ],
   "outputs": []
  },
  {
   "cell_type": "code",
   "execution_count": 149,
   "metadata": {},
   "source": [
    "# WMT22, MQM, zh-en, sys\n",
    "\n",
    "corrs = data.GetCorrelations(\n",
    "    testset, \"sys\", {\"refA\"}, set(), include_human, include_outliers,\n",
    "    gold_name, primary_metrics, domain)\n",
    "corrs_and_ranks, sig_matrix, draws_index, draws_list = data.CompareMetrics(\n",
    "    corrs, scipy.stats.pearsonr, \"none\", True, 0, psd, pval)\n",
    "\n",
    "data.PrintMetricComparison(corrs_and_ranks, sig_matrix, pval, testset)"
   ],
   "outputs": []
  },
  {
   "cell_type": "code",
   "execution_count": 10,
   "metadata": {},
   "source": [
    "testset.sys_names, testset"
   ],
   "outputs": []
  },
  {
   "cell_type": "code",
   "execution_count": 33,
   "metadata": {},
   "source": [
    "# WMT22, DA, zh-en\n",
    "\n",
    "corrs = data.GetCorrelations(\n",
    "    testset, \"seg\", {\"refA\"}, set(), include_human, include_outliers,\n",
    "    gold_name, primary_metrics, domain)\n",
    "corrs_and_ranks, sig_matrix, draws_index, draws_list = data.CompareMetrics(\n",
    "    corrs, scipy.stats.kendalltau, \"none\", True, 0, psd, pval)\n",
    "\n",
    "data.PrintMetricComparison(corrs_and_ranks, sig_matrix, pval, testset)"
   ],
   "outputs": []
  },
  {
   "cell_type": "code",
   "execution_count": 18,
   "metadata": {},
   "source": [
    "draws_index, len(draws_index)"
   ],
   "outputs": []
  },
  {
   "cell_type": "code",
   "execution_count": 15,
   "metadata": {},
   "source": [
    "draws_list"
   ],
   "outputs": []
  },
  {
   "cell_type": "code",
   "execution_count": 11,
   "metadata": {},
   "source": [
    "testset.human_score_names, testset.human_sys_names, testset.std_ref"
   ],
   "outputs": []
  },
  {
   "cell_type": "code",
   "execution_count": 15,
   "metadata": {},
   "source": [
    "sys2seg_scores = testset.Scores(\"seg\", \"mqm\")\n",
    "type(sys2seg_scores), len(sys2seg_scores)"
   ],
   "outputs": []
  },
  {
   "cell_type": "code",
   "execution_count": 12,
   "metadata": {},
   "source": [
    "nsegs"
   ],
   "outputs": []
  },
  {
   "cell_type": "code",
   "execution_count": 63,
   "metadata": {
    "scrolled": true
   },
   "source": [
    "wmt_z_human_scores, scored_systems = [], []\n",
    "for sys, scores in sys2seg_scores.items():\n",
    "    wmt_z_human_scores.extend(scores)\n",
    "    # assert not any(score is None for score in scores)\n",
    "    assert len(scores) == nsegs\n",
    "    scored_systems.append(sys)\n",
    "scored_systems = set(scored_systems) \n",
    "wmt_z_human_scores, len(wmt_z_human_scores), scored_systems, len(scored_systems)"
   ],
   "outputs": []
  },
  {
   "cell_type": "code",
   "execution_count": 23,
   "metadata": {},
   "source": [
    "# @title Load data for a specific WMT year language pairs scored with z-normalized DA\n",
    "\n",
    "wmt_year = \"wmt22\"\n",
    "all_evs = {}  # name/lp -> evs\n",
    "for testset in meta_info.DATA:\n",
    "    if not testset.startswith(wmt_year):\n",
    "        continue\n",
    "    for lp in meta_info.DATA[testset]:\n",
    "        new_eval_set = data.EvalSet(testset, lp, True)\n",
    "        if \"wmt-z\" not in new_eval_set.human_score_names:\n",
    "            print(testset, lp)\n",
    "            continue\n",
    "        all_evs[f'{testset}/{lp}'] = new_eval_set\n",
    "\n",
    "print('\\n'.join(all_evs.keys()))"
   ],
   "outputs": []
  },
  {
   "cell_type": "code",
   "execution_count": 5,
   "metadata": {},
   "source": [
    "from pprint import pp\n",
    "\n",
    "n_annotated_sys_outputs = 0\n",
    "testset_name2scored_systems = dict()\n",
    "for testset_name, testset in all_evs.items():\n",
    "    sys2seg_scores = testset.Scores(\"seg\", \"wmt-z\")\n",
    "    wmt_z_human_scores, scored_systems = [], []\n",
    "    sum_sum = 0\n",
    "    for sys, scores in sys2seg_scores.items():\n",
    "        if sys == testset.std_ref:# or ((testset_name.endswith(\"zh-en\") or testset_name.endswith(\"en-ru\")) and sys.startswith(\"ref\")):\n",
    "            continue\n",
    "        # wmt_z_human_scores.extend(scores)\n",
    "        # assert not any(score is None for score in scores)\n",
    "        # assert len(scores) == nsegs\n",
    "        scored_systems.append(sys)\n",
    "        new_sum = sum(1 for score in scores if score is not None)\n",
    "        n_annotated_sys_outputs += new_sum\n",
    "        sum_sum += new_sum\n",
    "    print(testset_name, sum_sum)\n",
    "    pp(scored_systems)\n",
    "    print(testset.std_ref)\n",
    "    print(\"\\n\")\n",
    "    assert testset_name not in testset_name2scored_systems\n",
    "    testset_name2scored_systems[testset_name] = scored_systems\n",
    "n_annotated_sys_outputs"
   ],
   "outputs": []
  },
  {
   "cell_type": "code",
   "execution_count": 94,
   "metadata": {},
   "source": [
    "testset_name2scored_systems[\"wmt21.news/en-ru\"]"
   ],
   "outputs": []
  },
  {
   "cell_type": "code",
   "execution_count": null,
   "metadata": {},
   "source": [
    "testset, lp = testset_name, lp\n",
    "testset = data.EvalSet(testset, lp, True)\n",
    "testset, type(testset)"
   ],
   "outputs": []
  },
  {
   "cell_type": "code",
   "execution_count": null,
   "metadata": {
    "id": "4Ur6XTs9hlmG"
   },
   "source": [
    "# @title Evaluate metrics using segment-level Kendall correlation\n",
    "\n",
    "# Kendall correlation is similar to pairwise accuracy, except that it is\n",
    "# normalized differently. The function calls are identical to the previous one,\n",
    "# except that we set the 'level' parameter to 'seg', and specify Kendall rather\n",
    "# than Pearson. The value of the 'average_by' parameter also matters here, as it\n",
    "# specifies how system x segment score matrices get converted into vectors for\n",
    "# comparison. We will use 'none', which just flattens the matrices.\n",
    "\n",
    "# The resulting ranking is similar to the ranking from accuracy. One noticeable\n",
    "# difference is that the significance clusters are smaller because they are\n",
    "# based on more data (much larger vectors). Notice that BLEU is absent because\n",
    "# it isn't available at the segment level.\n",
    "\n",
    "evs = all_evs['wmt21.news/en-de']\n",
    "corrs = data.GetCorrelations(\n",
    "    evs, 'seg', {evs.std_ref}, {'refB'}, include_human, include_outliers,\n",
    "    gold_name, primary_metrics, domain)\n",
    "ranks, matrix = data.CompareMetrics(\n",
    "    corrs, scipy.stats.kendalltau, 'none', k, psd, pval)\n",
    "\n",
    "data.PrintMetricComparison(ranks, matrix, pval, evs)"
   ],
   "outputs": []
  },
  {
   "cell_type": "code",
   "execution_count": null,
   "metadata": {
    "id": "x1P8jUG0kUEP"
   },
   "source": [
    "# @title Evaluate metrics using seg-level accuracy with optimized tie threshold.\n",
    "\n",
    "# This is an implementation of the acc*_eq pairwise ranking accuracy proposed in\n",
    "# https://arxiv.org/abs/2305.14324. This is similar to global accuracy, but it\n",
    "# additionally gives metrics credit for predicting ties in gold scores, which\n",
    "# arise frequently in MQM segment-level data. To avoid bias due to differences\n",
    "# in scoring precision for different metrics, an optimal threshold for assigning\n",
    "# ties is automatically computed for each metric and test set.\n",
    "\n",
    "# For demo purposes we disable significance testing by setting k to 0.\n",
    "# (Significance testing works but is currently very slow.) Note that the\n",
    "# optimization procedure uses sampling, so results can change across different\n",
    "# runs.\n",
    "\n",
    "evs = all_evs['wmt21.news/en-de']\n",
    "corrs = data.GetCorrelations(\n",
    "    evs, 'seg', {evs.std_ref}, {'refB'}, include_human, include_outliers,\n",
    "    gold_name, primary_metrics, domain)\n",
    "ranks, matrix = data.CompareMetrics(\n",
    "    corrs, stats.KendallWithTiesOpt, 'item', 0, psd, pval, variant='acc23',\n",
    "    sample_rate=0.1)\n",
    "\n",
    "data.PrintMetricComparison(ranks, matrix, pval, evs)"
   ],
   "outputs": []
  },
  {
   "cell_type": "code",
   "execution_count": 35,
   "metadata": {
    "scrolled": true
   },
   "source": [
    "from comet import download_model, load_from_checkpoint\n",
    "\n",
    "model_path = download_model(\"Unbabel/wmt22-comet-da\")\n",
    "model = load_from_checkpoint(model_path)\n",
    "model"
   ],
   "outputs": []
  },
  {
   "cell_type": "code",
   "execution_count": 10,
   "metadata": {},
   "source": [
    "from matese.metric import MaTESe\n",
    "\n",
    "candidates = []\n",
    "references = []\n",
    "\n",
    "metric = MaTESe.load_metric('matese', device=\"cuda\", batch_size=1) # pass 'matese-en' or 'matese-qe' for the other versions\n",
    "metric"
   ],
   "outputs": []
  },
  {
   "cell_type": "code",
   "execution_count": null,
   "metadata": {},
   "source": [
    "from matese.metric import MaTESe\n",
    "\n",
    "sources = [\"这是一个中文的句子\"]\n",
    "candidates = [\"This is a wrong translation in Chinese\"]\n",
    "references = [\"This is a sentence in Chinese\"]\n",
    "\n",
    "metric = MaTESe.load_metric('matese') # pass 'matese-qe' for the reference-less metric\n",
    "assessment = metric.evaluate(candidates, sources, references)[0]\n",
    "\n",
    "print(assessment)"
   ],
   "outputs": []
  },
  {
   "cell_type": "code",
   "execution_count": 36,
   "metadata": {},
   "source": [
    "def create_input_for_comet(src_sents, cand_sents, ref_sents):\n",
    "    data = []\n",
    "    assert len(src_sents) == len(cand_sents) == len(ref_sents)\n",
    "    for input_sents in [src_sents, ref_sents]:\n",
    "        assert all(sent is not None and len(sent) > 0 for sent in input_sents)\n",
    "    for src, cand, ref in zip(src_sents, cand_sents, ref_sents):\n",
    "        data.append({\"src\": src, \"mt\": cand, \"ref\": ref})\n",
    "    return data"
   ],
   "outputs": []
  },
  {
   "cell_type": "code",
   "execution_count": 11,
   "metadata": {},
   "source": [
    "testset.std_ref"
   ],
   "outputs": []
  },
  {
   "cell_type": "code",
   "execution_count": 12,
   "metadata": {},
   "source": [
    "ref_a_sents = testset.all_refs[testset.std_ref] # refA\n",
    "len(ref_a_sents), len(testset.src), nsegs"
   ],
   "outputs": []
  },
  {
   "cell_type": "code",
   "execution_count": 13,
   "metadata": {},
   "source": [
    "systems_to_discard = testset.human_sys_names.union(testset.outlier_sys_names)\n",
    "systems_to_discard"
   ],
   "outputs": []
  },
  {
   "cell_type": "code",
   "execution_count": 14,
   "metadata": {},
   "source": [
    "systems_to_discard = {testset.std_ref}.union(testset.outlier_sys_names)\n",
    "systems_to_discard"
   ],
   "outputs": []
  },
  {
   "cell_type": "code",
   "execution_count": 15,
   "metadata": {},
   "source": [
    "sys2outputs = dict()\n",
    "for sys, candidates in testset.sys_outputs.items():\n",
    "    if sys in systems_to_discard:\n",
    "        continue\n",
    "    assert len(candidates) == nsegs\n",
    "    assert sys not in sys2outputs\n",
    "    assert all(candidate is not None for candidate in candidates)\n",
    "    sys2outputs[sys] = candidates\n",
    "len(sys2outputs)"
   ],
   "outputs": []
  },
  {
   "cell_type": "code",
   "execution_count": 41,
   "metadata": {},
   "source": [
    "import os\n",
    "os.environ[\"CUDA_VISIBLE_DEVICES\"]=\"0\""
   ],
   "outputs": []
  },
  {
   "cell_type": "code",
   "execution_count": 16,
   "metadata": {},
   "source": [
    "import torch\n",
    "\n",
    "torch.cuda.get_device_name(0)"
   ],
   "outputs": []
  },
  {
   "cell_type": "code",
   "execution_count": 46,
   "metadata": {
    "scrolled": true
   },
   "source": [
    "# @title Evaluate a new metric\n",
    "\n",
    "# New metrics can be included in the comparison of existing metrics using the\n",
    "# 'extern_metrics' argument to GetCorrelations().\n",
    "\n",
    "sys2seg_scores = dict()\n",
    "for sys_name, cand_sents in sys2outputs.items():\n",
    "    assert sys_name not in sys2seg_scores\n",
    "    comet_input_data = create_input_for_comet(testset.src, cand_sents, ref_a_sents)\n",
    "    sys2seg_scores[sys_name] = model.predict(comet_input_data, batch_size=8, gpus=1)[0]"
   ],
   "outputs": []
  },
  {
   "cell_type": "code",
   "execution_count": 47,
   "metadata": {},
   "source": [
    "from fake_metric import load_from_checkpoint\n",
    "\n",
    "model_path = \"/home/prosho/mt-metrics-analysis/checkpoints/fake_regression_metric_bs=16_nepochs=10/epoch=3-step=216949-val_mse_loss=0.41041.ckpt\"\n",
    "fake_model = load_from_checkpoint(model_path)\n",
    "fake_model"
   ],
   "outputs": []
  },
  {
   "cell_type": "code",
   "execution_count": 48,
   "metadata": {
    "scrolled": true
   },
   "source": [
    "# @title Evaluate a new metric\n",
    "\n",
    "# New metrics can be included in the comparison of existing metrics using the\n",
    "# 'extern_metrics' argument to GetCorrelations().\n",
    "\n",
    "def create_input_for_fake_metric(src_sents, cand_sents, ref_sents):\n",
    "    data = []\n",
    "    assert len(src_sents) == len(cand_sents) == len(ref_sents)\n",
    "    for input_sents in [src_sents, ref_sents]:\n",
    "        assert all(sent is not None and len(sent) > 0 for sent in input_sents)\n",
    "    for src, cand, ref in zip(src_sents, cand_sents, ref_sents):\n",
    "        data.append({\"mt\": cand})\n",
    "    return data\n",
    "\n",
    "fake_sys2seg_scores = dict()\n",
    "for sys_name, cand_sents in sys2outputs.items():\n",
    "    assert sys_name not in fake_sys2seg_scores\n",
    "    input_data = create_input_for_fake_metric(testset.src, cand_sents, ref_a_sents)\n",
    "    fake_sys2seg_scores[sys_name] = fake_model.predict(input_data, batch_size=8, gpus=1)[0]"
   ],
   "outputs": []
  },
  {
   "cell_type": "code",
   "execution_count": 16,
   "metadata": {},
   "source": [
    "# @title Evaluate a new metric\n",
    "\n",
    "# New metrics can be included in the comparison of existing metrics using the\n",
    "# 'extern_metrics' argument to GetCorrelations().\n",
    "\n",
    "sys2seg_scores = dict()\n",
    "for sys_name, cand_sents in sys2outputs.items():\n",
    "    assert sys_name not in sys2seg_scores\n",
    "    matese_input_candidates = cand_sents\n",
    "    matese_input_refs = testset.all_refs[testset.std_ref]\n",
    "    assert len(matese_input_candidates) == len(matese_input_refs) == nsegs\n",
    "    sys2seg_scores[sys_name] = [assessment[\"score\"] for assessment in metric.evaluate(matese_input_candidates, references=matese_input_refs)]\n",
    "len(sys2seg_scores)"
   ],
   "outputs": []
  },
  {
   "cell_type": "code",
   "execution_count": 49,
   "metadata": {},
   "source": [
    "primary_metrics, gold_name"
   ],
   "outputs": []
  },
  {
   "cell_type": "code",
   "execution_count": 111,
   "metadata": {},
   "source": [
    "old_sys2seg_scores = testset.Scores(\"seg\", \"COMET-DA_2021-refA\")\n",
    "type(old_sys2seg_scores), len(old_sys2seg_scores), len(sys2seg_scores), list(old_sys2seg_scores)"
   ],
   "outputs": []
  },
  {
   "cell_type": "code",
   "execution_count": 112,
   "metadata": {
    "scrolled": true
   },
   "source": [
    "old_sys2seg_scores.pop(\"refB\"), len(old_sys2seg_scores)"
   ],
   "outputs": []
  },
  {
   "cell_type": "code",
   "execution_count": 115,
   "metadata": {},
   "source": [
    "set(old_sys2seg_scores) == set(sys2seg_scores)"
   ],
   "outputs": []
  },
  {
   "cell_type": "code",
   "execution_count": null,
   "metadata": {},
   "source": [
    "# Run the comparison with the new metric included via the 'extern_metrics'\n",
    "# argument.\n",
    "\n",
    "# WMT23, MQM, he-en\n",
    "\n",
    "extras = {\"MATESETEST-refB\": sys2seg_scores}\n",
    "\n",
    "corrs = data.GetCorrelations(\n",
    "    testset, \"seg\", {testset.std_ref}, set(), include_human, include_outliers,\n",
    "    gold_name, primary_metrics, domain, extern_metrics=extras)\n",
    "corrs_and_ranks, sig_matrix, draws_index, draws_list = data.CompareMetrics(\n",
    "    corrs, stats.KendallWithTiesOpt, \"item\", False, k, psd, pval, sample_rate=1.0)\n",
    "\n",
    "data.PrintMetricComparison(corrs_and_ranks, sig_matrix, pval, testset)"
   ],
   "outputs": []
  },
  {
   "cell_type": "code",
   "execution_count": 22,
   "metadata": {},
   "source": [
    "# Run the comparison with the new metric included via the 'extern_metrics'\n",
    "# argument.\n",
    "\n",
    "# WMT21.news, DA, zh-en\n",
    "\n",
    "extras = {\"COMET-DA_2022-refA\": sys2seg_scores}\n",
    "corrs = data.GetCorrelations(\n",
    "    testset, \"seg\", {\"refA\"}, set(), include_human, include_outliers,\n",
    "    gold_name, primary_metrics, domain, extern_metrics=extras)\n",
    "corrs_and_ranks, sig_matrix, draws_index, draws_list = data.CompareMetrics(\n",
    "    corrs, stats.KendallLike, \"item\", False, 0, psd, pval)\n",
    "\n",
    "data.PrintMetricComparison(corrs_and_ranks, sig_matrix, pval, testset)"
   ],
   "outputs": []
  },
  {
   "cell_type": "code",
   "execution_count": 52,
   "metadata": {},
   "source": [
    "k"
   ],
   "outputs": []
  },
  {
   "cell_type": "code",
   "execution_count": 53,
   "metadata": {},
   "source": [
    "# WMT22, DA, zh-en, seg\n",
    "\n",
    "extras = {\"COMET-DA_2022-refA\": sys2seg_scores, \"FAKE-METRIC-refA\": fake_sys2seg_scores}\n",
    "corrs = data.GetCorrelations(\n",
    "    testset, \"seg\", {\"refA\"}, set(), include_human, include_outliers,\n",
    "    gold_name, primary_metrics, domain, extern_metrics=extras)\n",
    "corrs_and_ranks, sig_matrix, draws_index, draws_list = data.CompareMetrics(\n",
    "    corrs, scipy.stats.kendalltau, \"none\", True, k, psd, pval)\n",
    "\n",
    "data.PrintMetricComparison(corrs_and_ranks, sig_matrix, pval, testset)"
   ],
   "outputs": []
  },
  {
   "cell_type": "code",
   "execution_count": 157,
   "metadata": {},
   "source": [
    "# WMT22, MQM, zh-en, seg\n",
    "\n",
    "corrs = data.GetCorrelations(\n",
    "    testset, \"seg\", {\"refA\"}, set(), include_human, include_outliers,\n",
    "    gold_name, primary_metrics, domain, extern_metrics=extras)\n",
    "corrs_and_ranks, sig_matrix, draws_index, draws_list = data.CompareMetrics(\n",
    "    corrs, scipy.stats.kendalltau, \"none\", True, 1000, psd, pval)\n",
    "\n",
    "data.PrintMetricComparison(corrs_and_ranks, sig_matrix, pval, testset)"
   ],
   "outputs": []
  },
  {
   "cell_type": "code",
   "execution_count": 60,
   "metadata": {},
   "source": [
    "sys2score = {sys: [sum(scores) / len(scores)] for (sys, scores) in sys2seg_scores.items()}\n",
    "sys2score"
   ],
   "outputs": []
  },
  {
   "cell_type": "code",
   "execution_count": 59,
   "metadata": {},
   "source": [
    "fake_sys2score = {sys: [sum(scores) / len(scores)] for (sys, scores) in fake_sys2seg_scores.items()}\n",
    "fake_sys2score"
   ],
   "outputs": []
  },
  {
   "cell_type": "code",
   "execution_count": 62,
   "metadata": {},
   "source": [
    "# WMT22, DA, zh-en, sys\n",
    "\n",
    "sys_extras = {\"COMET-DA_2022-refA\": sys2score, \"FAKE-METRIC-refA\": fake_sys2score}\n",
    "corrs = data.GetCorrelations(\n",
    "    testset, 'sys', {\"refA\"}, set(), include_human, include_outliers,\n",
    "    gold_name, primary_metrics, domain, extern_metrics=sys_extras)\n",
    "corrs_and_ranks, sig_matrix, draws_index, draws_list = data.CompareMetrics(\n",
    "    corrs, scipy.stats.pearsonr, \"none\", True, 1000, psd, pval)\n",
    "\n",
    "data.PrintMetricComparison(corrs_and_ranks, sig_matrix, pval, testset)"
   ],
   "outputs": []
  },
  {
   "cell_type": "code",
   "execution_count": 162,
   "metadata": {},
   "source": [
    "# WMT22, MQM, zh-en, sys\n",
    "\n",
    "corrs = data.GetCorrelations(\n",
    "    testset, \"sys\", {\"refA\"}, set(), include_human, include_outliers,\n",
    "    gold_name, True, domain, extern_metrics=sys_extras)\n",
    "corrs_and_ranks, sig_matrix, draws_index, draws_list = data.CompareMetrics(\n",
    "    corrs, scipy.stats.pearsonr, \"none\", True, 1000, psd, pval)\n",
    "\n",
    "data.PrintMetricComparison(corrs_and_ranks, sig_matrix, pval, testset)"
   ],
   "outputs": []
  },
  {
   "cell_type": "code",
   "execution_count": 148,
   "metadata": {},
   "source": [
    "# WMT22, MQM, zh-en\n",
    "\n",
    "corrs = data.GetCorrelations(\n",
    "    testset, \"seg\", {\"refA\"}, set(), include_human, include_outliers,\n",
    "    \"mqm\", primary_metrics, domain, extern_metrics=extras)\n",
    "corrs_and_ranks, sig_matrix, draws_index, draws_list = data.CompareMetrics(\n",
    "    corrs, scipy.stats.kendalltau, 'none', True, 1000, psd, pval)\n",
    "\n",
    "data.PrintMetricComparison(corrs_and_ranks, sig_matrix, pval, testset)"
   ],
   "outputs": []
  },
  {
   "cell_type": "code",
   "execution_count": 70,
   "metadata": {},
   "source": [
    "# WMT21.news, MQM, zh-en\n",
    "\n",
    "extras = {\"COMET-DA_2022-refB\": sys2seg_scores}\n",
    "corrs = data.GetCorrelations(\n",
    "    testset, \"seg\", {testset.std_ref}, set(), include_human, include_outliers,\n",
    "    gold_name, primary_metrics, domain, extern_metrics=extras)\n",
    "corrs_and_ranks, sig_matrix, draws_index, draws_list = data.CompareMetrics(\n",
    "    corrs, scipy.stats.kendalltau, \"none\", True, 0, psd, pval)\n",
    "\n",
    "data.PrintMetricComparison(corrs_and_ranks, sig_matrix, pval, testset)"
   ],
   "outputs": []
  },
  {
   "cell_type": "code",
   "execution_count": 63,
   "metadata": {},
   "source": [
    "testset.metric_names"
   ],
   "outputs": []
  },
  {
   "cell_type": "code",
   "execution_count": 192,
   "metadata": {},
   "source": [
    "comet_20_sys2seg_scores = testset.Scores(\"seg\", f\"COMET-QE-src\")\n",
    "type(comet_20_sys2seg_scores), len(comet_20_sys2seg_scores), len(sys2seg_scores), len(fake_sys2seg_scores)"
   ],
   "outputs": []
  },
  {
   "cell_type": "code",
   "execution_count": 193,
   "metadata": {},
   "source": [
    "comet_20_sys2score = testset.Scores(\"sys\", f\"COMET-QE-src\")\n",
    "type(comet_20_sys2score), len(comet_20_sys2score), len(sys2score), len(fake_sys2score)"
   ],
   "outputs": []
  },
  {
   "cell_type": "code",
   "execution_count": 13,
   "metadata": {},
   "source": [
    "other_seg = testset.Scores(\"seg\", f\"COMET-20-refA\")\n",
    "type(other_seg), len(other_seg)"
   ],
   "outputs": []
  },
  {
   "cell_type": "code",
   "execution_count": 14,
   "metadata": {},
   "source": [
    "new_seg = testset.Scores(\"seg\", f\"COMETKiwi-src\")\n",
    "type(new_seg), len(new_seg)"
   ],
   "outputs": []
  },
  {
   "cell_type": "code",
   "execution_count": 223,
   "metadata": {},
   "source": [
    "new_sys = testset.Scores(\"sys\", f\"COMETKiwi-src\")\n",
    "type(new_sys), len(new_sys), len(sys2seg_scores), len(fake_sys2seg_scores)"
   ],
   "outputs": []
  },
  {
   "cell_type": "code",
   "execution_count": 15,
   "metadata": {},
   "source": [
    "other_sys = testset.Scores(\"sys\", f\"COMET-20-refA\")\n",
    "type(other_sys), len(other_sys)"
   ],
   "outputs": []
  },
  {
   "cell_type": "code",
   "execution_count": 97,
   "metadata": {},
   "source": [
    "comet_da_21_sys2seg_scores = testset.Scores(\"sys\", f\"COMET-DA_2021-{testset.std_ref}\")\n",
    "type(comet_da_21_sys2seg_scores), len(comet_da_21_sys2seg_scores), len(sys2seg_scores)"
   ],
   "outputs": []
  },
  {
   "cell_type": "code",
   "execution_count": 170,
   "metadata": {},
   "source": [
    "list(comet_20_sys2seg_scores), list(sys2seg_scores), set(comet_20_sys2seg_scores).difference(set(sys2seg_scores)), set(sys2seg_scores).difference(set(comet_20_sys2seg_scores))"
   ],
   "outputs": []
  },
  {
   "cell_type": "code",
   "execution_count": 18,
   "metadata": {},
   "source": [
    "include_human = False"
   ],
   "outputs": []
  },
  {
   "cell_type": "code",
   "execution_count": 19,
   "metadata": {},
   "source": [
    "# List of systems to be scored.\n",
    "sys_names = testset.sys_names - {testset.std_ref}\n",
    "if not include_human:\n",
    "    sys_names -= testset.human_sys_names\n",
    "if not include_outliers:\n",
    "    sys_names -= testset.outlier_sys_names\n",
    "sys_names"
   ],
   "outputs": []
  },
  {
   "cell_type": "code",
   "execution_count": 126,
   "metadata": {},
   "source": [
    "gold_sys2score = testset.Scores(\"sys\", \"wmt\")\n",
    "type(gold_sys2score), len(gold_sys2score), set(gold_sys2score)\n",
    "gold_sys2score"
   ],
   "outputs": []
  },
  {
   "cell_type": "code",
   "execution_count": 225,
   "metadata": {},
   "source": [
    "sys_names = sys_names.intersection(comet_20_sys2score)\n",
    "sys_names"
   ],
   "outputs": []
  },
  {
   "cell_type": "code",
   "execution_count": 127,
   "metadata": {},
   "source": [
    "sys_names = sys_names.intersection(gold_sys2score)\n",
    "sys_names"
   ],
   "outputs": []
  },
  {
   "cell_type": "code",
   "execution_count": 173,
   "metadata": {},
   "source": [
    "set(sys2seg_scores), set(fake_sys2seg_scores), set(sys2seg_scores) == set(fake_sys2seg_scores)"
   ],
   "outputs": []
  },
  {
   "cell_type": "code",
   "execution_count": 68,
   "metadata": {},
   "source": [
    "sys_names = set(sys2seg_scores)"
   ],
   "outputs": []
  },
  {
   "cell_type": "code",
   "execution_count": 247,
   "metadata": {},
   "source": [
    "correlation = testset.Correlation(fake_sys2seg_scores, new_seg, sys_names)\n",
    "correlation"
   ],
   "outputs": []
  },
  {
   "cell_type": "code",
   "execution_count": 219,
   "metadata": {},
   "source": [
    "correlation = testset.Correlation(comet_20_sys2score, sys2score, sys_names)\n",
    "correlation"
   ],
   "outputs": []
  },
  {
   "cell_type": "code",
   "execution_count": 235,
   "metadata": {},
   "source": [
    "correlation = testset.Correlation(fake_sys2score, new_sys, sys_names)\n",
    "correlation"
   ],
   "outputs": []
  },
  {
   "cell_type": "code",
   "execution_count": 205,
   "metadata": {},
   "source": [
    "correlation = testset.Correlation(gold_sys2score, comet_20_sys2score, sys_names)\n",
    "correlation"
   ],
   "outputs": []
  },
  {
   "cell_type": "code",
   "execution_count": 91,
   "metadata": {},
   "source": [
    "correlation = testset.Correlation(gold_sys2seg_scores, sys2seg_scores, sys_names)\n",
    "correlation"
   ],
   "outputs": []
  },
  {
   "cell_type": "code",
   "execution_count": 20,
   "metadata": {},
   "source": [
    "correlation = testset.Correlation(other_seg, new_seg, sys_names)\n",
    "correlation"
   ],
   "outputs": []
  },
  {
   "cell_type": "code",
   "execution_count": 21,
   "metadata": {},
   "source": [
    "corr_wrapper = stats.AverageCorrelation(\n",
    "    scipy.stats.kendalltau, #scipy.stats.pearsonr\n",
    "    correlation.num_sys,\n",
    "    average_by=\"none\",\n",
    "    filter_nones=correlation.none_count,\n",
    "    replace_nans_with_zeros=False,\n",
    ")\n",
    "corr_wrapper"
   ],
   "outputs": []
  },
  {
   "cell_type": "code",
   "execution_count": 28,
   "metadata": {},
   "source": [
    "correlation_value = corr_wrapper(correlation.gold_scores, correlation.metric_scores)[0]\n",
    "correlation_value"
   ],
   "outputs": []
  },
  {
   "cell_type": "code",
   "execution_count": 25,
   "metadata": {},
   "source": [
    "len(correlation.gold_scores), len(correlation.metric_scores)"
   ],
   "outputs": []
  },
  {
   "cell_type": "code",
   "execution_count": 32,
   "metadata": {},
   "source": [
    "s = scipy.stats.kendalltau(correlation.gold_scores, correlation.metric_scores)\n",
    "s"
   ],
   "outputs": []
  },
  {
   "cell_type": "code",
   "execution_count": 191,
   "metadata": {},
   "source": [
    "correlation_value = corr_wrapper(correlation.gold_scores, correlation.metric_scores)[0]\n",
    "correlation_value"
   ],
   "outputs": []
  },
  {
   "cell_type": "code",
   "execution_count": 183,
   "metadata": {},
   "source": [
    "correlation_value = corr_wrapper(correlation.gold_scores, correlation.metric_scores)[0]\n",
    "correlation_value"
   ],
   "outputs": []
  },
  {
   "cell_type": "code",
   "execution_count": 179,
   "metadata": {},
   "source": [
    "correlation_value = corr_wrapper(correlation.gold_scores, correlation.metric_scores)[0]\n",
    "correlation_value"
   ],
   "outputs": []
  },
  {
   "cell_type": "code",
   "execution_count": 176,
   "metadata": {},
   "source": [
    "correlation_value = corr_wrapper(correlation.gold_scores, correlation.metric_scores)[0]\n",
    "correlation_value"
   ],
   "outputs": []
  },
  {
   "cell_type": "code",
   "execution_count": 138,
   "metadata": {},
   "source": [
    "correlation_value = corr_wrapper(correlation.gold_scores, correlation.metric_scores)[0]\n",
    "correlation_value"
   ],
   "outputs": []
  },
  {
   "cell_type": "code",
   "execution_count": 117,
   "metadata": {},
   "source": [
    "correlation_value = corr_wrapper(correlation.gold_scores, correlation.metric_scores)[0]\n",
    "correlation_value"
   ],
   "outputs": []
  },
  {
   "cell_type": "code",
   "execution_count": 92,
   "metadata": {},
   "source": [
    "correlation_value = corr_wrapper(correlation.gold_scores, correlation.metric_scores)[0]\n",
    "correlation_value"
   ],
   "outputs": []
  },
  {
   "cell_type": "code",
   "execution_count": 106,
   "metadata": {},
   "source": [
    "correlation_value = corr_wrapper(correlation.gold_scores, correlation.metric_scores)[0]\n",
    "correlation_value"
   ],
   "outputs": []
  },
  {
   "cell_type": "code",
   "execution_count": 109,
   "metadata": {},
   "source": [
    "correlation_value = corr_wrapper(correlation.gold_scores, correlation.metric_scores)[0]\n",
    "correlation_value"
   ],
   "outputs": []
  },
  {
   "cell_type": "code",
   "execution_count": 75,
   "metadata": {},
   "source": [
    "correlation_value = corr_wrapper(correlation.gold_scores, correlation.metric_scores)[0]\n",
    "correlation_value"
   ],
   "outputs": []
  },
  {
   "cell_type": "code",
   "execution_count": 85,
   "metadata": {},
   "source": [
    "corr_wrapper(correlation.gold_scores, correlation.metric_scores)[0]"
   ],
   "outputs": []
  },
  {
   "cell_type": "code",
   "execution_count": 93,
   "metadata": {},
   "source": [
    "corr_wrapper(correlation.gold_scores, correlation.metric_scores)[0]"
   ],
   "outputs": []
  },
  {
   "cell_type": "code",
   "execution_count": null,
   "metadata": {
    "id": "Z304g56JBgq0"
   },
   "source": [
    "# @title Evaluate a new metric\n",
    "\n",
    "# New metrics can be included in the comparison of existing metrics using the\n",
    "# 'extern_metrics' argument to GetCorrelations(). To demonstrate this, we'll\n",
    "# create and evaluate a new metric consisting of the average of the top 3\n",
    "# metrics in the system-level Pearson ranking.\n",
    "\n",
    "# The result is a slight, non-significant, improvement over C-SPECpn, the metric\n",
    "# with highest Pearson correlation. (The '*' before the new metric indicates\n",
    "# that it isn't recognized as a primary submission.)\n",
    "\n",
    "evs = all_evs['wmt21.news/en-de']\n",
    "\n",
    "# Create the new metric\n",
    "top3_metrics = ['C-SPECpn-refC', 'COMET-QE-MQM_2021-src', 'bleurt-20-refC']\n",
    "sys_scores = {}\n",
    "for sys_name in evs.sys_names:\n",
    "  if sys_name == 'refC': continue\n",
    "  scores = np.array([evs.Scores('sys', m)[sys_name] for m in top3_metrics])\n",
    "  sys_scores[sys_name] = scores.mean(axis=0)\n",
    "\n",
    "# Run the comparison with the new metric included via the 'extern_metrics'\n",
    "# argument.\n",
    "extras = {'top3_avg-refC': sys_scores}\n",
    "corrs = data.GetCorrelations(\n",
    "    evs, 'sys', {evs.std_ref}, {'refB'}, include_human, include_outliers,\n",
    "    gold_name, primary_metrics, domain, extern_metrics=extras)\n",
    "ranks, matrix = data.CompareMetrics(\n",
    "    corrs, scipy.stats.pearsonr, 'none', k, psd, pval)\n",
    "\n",
    "data.PrintMetricComparison(ranks, matrix, pval, evs)"
   ],
   "outputs": []
  },
  {
   "cell_type": "code",
   "execution_count": null,
   "metadata": {
    "id": "Ti_N-stPqmN4"
   },
   "source": [
    "# @title Evaluate a new metric using global accuracy\n",
    "\n",
    "# This requires a bit more work, since we have to produce results for multiple\n",
    "# evalsets. As before, the result is a slight gain over the best single metric\n",
    "# (note that the averaged metrics aren't quite the top 3 for the global accuracy\n",
    "# task).\n",
    "\n",
    "# Create the new metric, one instance per input evalset\n",
    "top3_metrics = ['C-SPECpn-<REF>', 'COMET-QE-MQM_2021-src', 'bleurt-20-<REF>']\n",
    "extras_list = []\n",
    "for evs in evs_list:\n",
    "  top3 = [m.replace('<REF>', evs.std_ref) for m in top3_metrics]\n",
    "  sys_scores = {}\n",
    "  for sys_name in evs.sys_names:\n",
    "    if sys_name == evs.std_ref: continue\n",
    "    scores = np.array([evs.Scores('sys', m)[sys_name] for m in top3])\n",
    "    sys_scores[sys_name] = scores.mean(axis=0)\n",
    "  extras_list.append({f'top3_avg-{evs.std_ref}': sys_scores})\n",
    "\n",
    "# Run the comparison with the new metric included via the 'extern_metrics_list'\n",
    "# argument.\n",
    "ranks, matrix = data.CompareMetricsWithGlobalAccuracy(\n",
    "    evs_list, main_refs, close_refs, include_human, include_outliers,\n",
    "    gold_name, primary_metrics, domain, k, psd, pval,\n",
    "    extern_metrics_list=extras_list)\n",
    "\n",
    "data.PrintMetricComparison(ranks, matrix)"
   ],
   "outputs": []
  },
  {
   "cell_type": "markdown",
   "metadata": {
    "id": "isPvYjjHU7SA"
   },
   "source": [
    "# Ranking metrics using the task interface\n",
    "\n",
    "This is a higher-level interface designed to make it more convenient to compare\n",
    "a set of metrics using various different criteria called 'tasks'. The following\n",
    "code uses this interface to roughly duplicate the comparisons in the previous\n",
    "section."
   ]
  },
  {
   "cell_type": "code",
   "execution_count": null,
   "metadata": {
    "id": "CJAgSNrEz03r"
   },
   "source": [
    "# @title Define a set of tasks\n",
    "\n",
    "# Create TaskSets from dicts that specify attribute/value-list combinations,\n",
    "# along with fixed assignments to other attributes. Concatenate these into a\n",
    "# single TaskSet.\n",
    "\n",
    "k = 1  # Use only a single random draw for demo.\n",
    "lang0 = {'test_set': ['wmt21.news'], 'lang': ['en-de,en-ru,zh-en']}\n",
    "langs = {'test_set': ['wmt21.news'], 'lang': ['en-de', 'en-ru', 'zh-en']}\n",
    "\n",
    "taskset = tasks.TaskSet(\n",
    "    lang0, corr_fcn='accuracy', close_refs=[{'refB'}, set(), set()], k=k)\n",
    "taskset += tasks.TaskSet(langs, level='sys', corr_fcn='pearson', k=k)\n",
    "taskset += tasks.TaskSet(langs, level='seg', corr_fcn='pearson', k=k)\n",
    "taskset += tasks.TaskSet(\n",
    "    langs, level='seg', avg_by='item', corr_fcn='KendallWithTiesOpt',\n",
    "    perm_test='pairs', corr_fcn_args={'sample_rate': 0.1}, k=k)\n",
    "\n",
    "# A TaskSet is just a list of Tasks, so we can make arbitrary changes to\n",
    "# attribute values. In this case, set the correct close_refs for en-de tasks.\n",
    "\n",
    "for task in taskset:\n",
    "  if task.lang == 'en-de': task.close_refs = {'refB'}\n",
    "\n",
    "# Print task 'names' (attribute/value strings in canonical order).\n",
    "\n",
    "for t in taskset:\n",
    "  print(t.name)"
   ],
   "outputs": []
  },
  {
   "cell_type": "code",
   "execution_count": null,
   "metadata": {
    "id": "LA_oY6dq0D9m"
   },
   "source": [
    "# @title Run the tasks\n",
    "\n",
    "# This first loads the necessary data, then runs each task in sequence to\n",
    "# produce a TaskSetResults object. Subsequent runs re-use the loaded data.\n",
    "\n",
    "results = taskset.Run()  # Takes about 5 minutes."
   ],
   "outputs": []
  },
  {
   "cell_type": "code",
   "execution_count": null,
   "metadata": {
    "id": "9ouFanD20HzV"
   },
   "source": [
    "# @title Print raw task results\n",
    "\n",
    "for result in results:\n",
    "  print(result.name)\n",
    "  print(result.Str())"
   ],
   "outputs": []
  },
  {
   "cell_type": "code",
   "execution_count": null,
   "metadata": {
    "id": "cC20eqtG0Mlh"
   },
   "source": [
    "# @title Average ranks for metrics\n",
    "\n",
    "# To combine the performance of metrics across tasks, we average their task\n",
    "# ranks. The tasks are weighted to ensure that the total mass for important\n",
    "# attributes is evenly distributed among the different values those attributes\n",
    "# take on.\n",
    "weights = results.AssignWeights(tasks.Attributes())\n",
    "global_ranks = results.AverageRanks(weights)\n",
    "\n",
    "# It is also interesting to compare the metric performance on different subsets\n",
    "# of tasks, for instance split by language.\n",
    "ranks_by_lp = {}\n",
    "for val, subset in results.SplitByAttr('lang').items():\n",
    "  weights = subset.AssignWeights(tasks.Attributes())\n",
    "  ranks_by_lp[val] = subset.AverageRanks(weights)\n",
    "\n",
    "# Print out the comparison, with global ranks first, followed by a breakdown\n",
    "# by language pair. We only show metrics that are in the intersection of all\n",
    "# tasks.\n",
    "langs = [' all ' if lp == 'en-de,en-ru,zh-en' else lp for lp in ranks_by_lp]\n",
    "print(''.rjust(24), 'global', ' '.join(langs))\n",
    "for metric, rank in global_ranks.items():\n",
    "  ranks_for_metric = [rank] + [d[metric] for d in ranks_by_lp.values()]\n",
    "  print(f'{metric:<25}', ' '.join(f'{r:5.2f}' for r in ranks_for_metric))\n"
   ],
   "outputs": []
  }
 ],
 "metadata": {
  "colab": {
   "last_runtime": {
    "build_target": "",
    "kind": "local"
   },
   "name": "mt_metrics_eval.ipynb",
   "private_outputs": true,
   "provenance": [
    {
     "file_id": "1gXA-HQKMF6G4IdrUob8hPnbVm6_rsfeX",
     "timestamp": 1656987947120
    }
   ],
   "toc_visible": true
  },
  "kernelspec": {
   "display_name": "Python 3 (ipykernel)",
   "language": "python",
   "name": "python3"
  },
  "language_info": {
   "codemirror_mode": {
    "name": "ipython",
    "version": 3
   },
   "file_extension": ".py",
   "mimetype": "text/x-python",
   "name": "python",
   "nbconvert_exporter": "python",
   "pygments_lexer": "ipython3",
   "version": "3.9.18"
  }
 },
 "nbformat": 4,
 "nbformat_minor": 4
}
